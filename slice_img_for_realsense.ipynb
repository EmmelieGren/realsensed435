{
 "cells": [
  {
   "cell_type": "markdown",
   "metadata": {},
   "source": [
    "# Slice depthimg to the same size as colorimg."
   ]
  },
  {
   "cell_type": "code",
   "execution_count": 1,
   "metadata": {},
   "outputs": [],
   "source": [
    "import pyrealsense2 as rs\n",
    "import numpy as np\n",
    "import cv2"
   ]
  },
  {
   "cell_type": "code",
   "execution_count": null,
   "metadata": {},
   "outputs": [],
   "source": [
    "output_dir = \"img_folder\""
   ]
  },
  {
   "cell_type": "code",
   "execution_count": 3,
   "metadata": {},
   "outputs": [],
   "source": [
    "def slice_img(output_width, output_height, alpha, nr, output_dir):\n",
    "    pipe = rs.pipeline()\n",
    "    profile = pipe.start()\n",
    "\n",
    "    try:\n",
    "        frames = pipe.wait_for_frames()\n",
    "        for f in frames:\n",
    "            print(f.profile)\n",
    "            print(f.get_profile().format)\n",
    "\n",
    "            # save depth img\n",
    "            depth_frame = f.as_depth_frame()\n",
    "            if depth_frame:\n",
    "                depth_img = np.asanyarray(depth_frame.get_data())\n",
    "                depth_img = depth_img[70:410,205:643]\n",
    "                depth_img = cv2.applyColorMap(cv2.convertScaleAbs(depth_img, alpha = alpha), cv2.COLORMAP_JET)\n",
    "                cv2.imwrite(f\"{output_dir}/{nr}_depth_alpha={alpha}_dim={depth_img.shape}.png\", depth_img)\n",
    "                print(depth_img.shape)\n",
    "\n",
    "\n",
    "\n",
    "            # save color img\n",
    "            color_frame = f.as_video_frame()\n",
    "            if color_frame and f.profile.stream_type() == rs.stream.color:\n",
    "                color_img = np.asanyarray(color_frame.get_data())\n",
    "                color_img_resized = cv2.resize(color_img, (output_width, output_height))\n",
    "                color_img_resized = cv2.cvtColor(color_img_resized, cv2.COLOR_BGR2RGB)\n",
    "                cv2.imwrite(f\"{output_dir}/{nr}_color_dim={color_img_resized.shape}.png\", color_img_resized)\n",
    "                print(color_img_resized.shape)\n",
    "                break\n",
    "\n",
    "    finally:\n",
    "        pipe.stop()"
   ]
  },
  {
   "cell_type": "code",
   "execution_count": 7,
   "metadata": {},
   "outputs": [
    {
     "name": "stdout",
     "output_type": "stream",
     "text": [
      "<pyrealsense2.[video_]stream_profile: Depth(0) 848x480 @ 30fps Z16>\n",
      "<bound method PyCapsule.format of <pyrealsense2.[video_]stream_profile: Depth(0) 848x480 @ 30fps Z16>>\n",
      "(340, 438, 3)\n",
      "<pyrealsense2.[video_]stream_profile: Color(0) 640x480 @ 30fps RGB8>\n",
      "<bound method PyCapsule.format of <pyrealsense2.[video_]stream_profile: Color(0) 640x480 @ 30fps RGB8>>\n",
      "(340, 438, 3)\n"
     ]
    }
   ],
   "source": [
    "nr = 1\n",
    "alpha = 0.6\n",
    "output_width = 438\n",
    "output_height = 340\n",
    "\n",
    "slice_img(output_width=output_width, output_height=output_height, alpha=alpha, nr=nr, output_dir=output_dir)"
   ]
  }
 ],
 "metadata": {
  "kernelspec": {
   "display_name": "development",
   "language": "python",
   "name": "python3"
  },
  "language_info": {
   "codemirror_mode": {
    "name": "ipython",
    "version": 3
   },
   "file_extension": ".py",
   "mimetype": "text/x-python",
   "name": "python",
   "nbconvert_exporter": "python",
   "pygments_lexer": "ipython3",
   "version": "3.10.10"
  }
 },
 "nbformat": 4,
 "nbformat_minor": 2
}
